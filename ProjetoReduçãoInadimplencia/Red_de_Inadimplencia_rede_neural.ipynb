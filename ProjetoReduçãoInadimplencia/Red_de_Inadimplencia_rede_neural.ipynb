{
 "cells": [
  {
   "cell_type": "markdown",
   "id": "563a98e6-3e40-4c80-a528-f44fb4ab3432",
   "metadata": {},
   "source": [
    "### Curso cientista de dados - Projeto final\n",
    "\n",
    "Sobre o projeto: Uma empresa de empréstimos fictícia sofre com a inadimpência de seus clientes e o nosso objetivo é reduzir essa taxa.\n",
    "\n",
    "Criar um modelo de machine learning a partir de um banco de dados\n"
   ]
  },
  {
   "cell_type": "code",
   "execution_count": 1,
   "id": "0cb02b2e-95d6-4bbb-b416-b2b1a66152cd",
   "metadata": {},
   "outputs": [],
   "source": [
    "#Importação de bibliotecas\n",
    "import pandas as pd\n",
    "import numpy as np\n",
    "import statistics  as sts\n",
    "from sklearn.preprocessing import LabelEncoder, OneHotEncoder, StandardScaler\n",
    "from sklearn.model_selection import train_test_split\n",
    "from sklearn.ensemble import RandomForestClassifier\n",
    "from sklearn.metrics import confusion_matrix, accuracy_score\n",
    "from keras.models import Sequential\n",
    "from keras.layers import Dense\n",
    "from keras.utils import np_utils\n",
    "from sklearn.compose import make_column_transformer\n",
    "import tensorflow as tf\n",
    "import psycopg2\n"
   ]
  },
  {
   "cell_type": "markdown",
   "id": "8d7f7ed7-cc06-4914-ac73-e1f95792367f",
   "metadata": {},
   "source": [
    "Conectando o banco de dados ao python"
   ]
  },
  {
   "cell_type": "code",
   "execution_count": 2,
   "id": "454804a5-2694-47db-9c89-5333f127cc47",
   "metadata": {},
   "outputs": [],
   "source": [
    "#conexão com o banco de dados\n",
    "conexao = psycopg2.connect(host=\"localhost\",database=\"Projeto\", user=\"postgres\", password=\"12345\", port=5432)"
   ]
  },
  {
   "cell_type": "code",
   "execution_count": 3,
   "id": "ce5d840b-00d5-489f-80f1-963540e30d27",
   "metadata": {},
   "outputs": [],
   "source": [
    "#cria um cursor\n",
    "cursor = conexao.cursor()\n",
    "#define consulta\n",
    "consulta = \"select * from credito\"\n",
    "#executa\n",
    "cursor.execute(consulta)"
   ]
  },
  {
   "cell_type": "code",
   "execution_count": 4,
   "id": "a9d310eb-f811-4edb-b068-ef01cd29d6d4",
   "metadata": {},
   "outputs": [],
   "source": [
    "#recupera todos os registros\n",
    "registros = cursor.fetchall()"
   ]
  },
  {
   "cell_type": "code",
   "execution_count": null,
   "id": "423a2467-6bd2-40dc-84ab-8f393713ba85",
   "metadata": {},
   "outputs": [],
   "source": [
    "#percorre os registros e imprime\n",
    "#for registro in registros:\n",
    "#    print(registro)"
   ]
  },
  {
   "cell_type": "markdown",
   "id": "f479caed-9565-45d4-9f67-bb1b649c0f38",
   "metadata": {},
   "source": [
    "Tratamento dos dados"
   ]
  },
  {
   "cell_type": "code",
   "execution_count": 6,
   "id": "05e0c080-b9d1-4124-9c80-7beed02931b2",
   "metadata": {},
   "outputs": [],
   "source": [
    "# a variavel registro nos vem como uma tupla, então transformamos em array usando o numpy\n",
    "db = pd.DataFrame(np.array(registros))"
   ]
  },
  {
   "cell_type": "code",
   "execution_count": 7,
   "id": "0acf4fd3-d0db-4aaa-abad-4507fdad3314",
   "metadata": {},
   "outputs": [
    {
     "data": {
      "text/html": [
       "<div>\n",
       "<style scoped>\n",
       "    .dataframe tbody tr th:only-of-type {\n",
       "        vertical-align: middle;\n",
       "    }\n",
       "\n",
       "    .dataframe tbody tr th {\n",
       "        vertical-align: top;\n",
       "    }\n",
       "\n",
       "    .dataframe thead th {\n",
       "        text-align: right;\n",
       "    }\n",
       "</style>\n",
       "<table border=\"1\" class=\"dataframe\">\n",
       "  <thead>\n",
       "    <tr style=\"text-align: right;\">\n",
       "      <th></th>\n",
       "      <th>IDCREDITO</th>\n",
       "      <th>Duracao</th>\n",
       "      <th>HistoricoCredito</th>\n",
       "      <th>Proposito</th>\n",
       "      <th>Valor</th>\n",
       "      <th>Investimentos</th>\n",
       "      <th>Emprego</th>\n",
       "      <th>TempoParcelamento</th>\n",
       "      <th>EstadoCivil</th>\n",
       "      <th>FiadorTerceiros</th>\n",
       "      <th>ResidenciaDesde</th>\n",
       "      <th>Idade</th>\n",
       "      <th>OutrosFinanciamentos</th>\n",
       "      <th>Habitacao</th>\n",
       "      <th>EmprestimoExistente</th>\n",
       "      <th>Profissao</th>\n",
       "      <th>Dependentes</th>\n",
       "      <th>SocioEmpresa</th>\n",
       "      <th>Estrangeiro</th>\n",
       "      <th>Status</th>\n",
       "    </tr>\n",
       "  </thead>\n",
       "  <tbody>\n",
       "    <tr>\n",
       "      <th>0</th>\n",
       "      <td>2</td>\n",
       "      <td>48</td>\n",
       "      <td>2</td>\n",
       "      <td>1</td>\n",
       "      <td>5951</td>\n",
       "      <td>2</td>\n",
       "      <td>3</td>\n",
       "      <td>2</td>\n",
       "      <td>1</td>\n",
       "      <td>3</td>\n",
       "      <td>2</td>\n",
       "      <td>22</td>\n",
       "      <td>3</td>\n",
       "      <td>1</td>\n",
       "      <td>1</td>\n",
       "      <td>4</td>\n",
       "      <td>1</td>\n",
       "      <td>0</td>\n",
       "      <td>0</td>\n",
       "      <td>0</td>\n",
       "    </tr>\n",
       "    <tr>\n",
       "      <th>1</th>\n",
       "      <td>3</td>\n",
       "      <td>12</td>\n",
       "      <td>1</td>\n",
       "      <td>2</td>\n",
       "      <td>2096</td>\n",
       "      <td>2</td>\n",
       "      <td>4</td>\n",
       "      <td>2</td>\n",
       "      <td>4</td>\n",
       "      <td>3</td>\n",
       "      <td>3</td>\n",
       "      <td>49</td>\n",
       "      <td>3</td>\n",
       "      <td>1</td>\n",
       "      <td>1</td>\n",
       "      <td>3</td>\n",
       "      <td>2</td>\n",
       "      <td>0</td>\n",
       "      <td>0</td>\n",
       "      <td>1</td>\n",
       "    </tr>\n",
       "    <tr>\n",
       "      <th>2</th>\n",
       "      <td>4</td>\n",
       "      <td>42</td>\n",
       "      <td>2</td>\n",
       "      <td>3</td>\n",
       "      <td>7882</td>\n",
       "      <td>2</td>\n",
       "      <td>4</td>\n",
       "      <td>2</td>\n",
       "      <td>4</td>\n",
       "      <td>4</td>\n",
       "      <td>4</td>\n",
       "      <td>45</td>\n",
       "      <td>3</td>\n",
       "      <td>2</td>\n",
       "      <td>1</td>\n",
       "      <td>4</td>\n",
       "      <td>2</td>\n",
       "      <td>0</td>\n",
       "      <td>0</td>\n",
       "      <td>1</td>\n",
       "    </tr>\n",
       "    <tr>\n",
       "      <th>3</th>\n",
       "      <td>5</td>\n",
       "      <td>24</td>\n",
       "      <td>3</td>\n",
       "      <td>4</td>\n",
       "      <td>4870</td>\n",
       "      <td>2</td>\n",
       "      <td>3</td>\n",
       "      <td>3</td>\n",
       "      <td>4</td>\n",
       "      <td>3</td>\n",
       "      <td>4</td>\n",
       "      <td>53</td>\n",
       "      <td>3</td>\n",
       "      <td>2</td>\n",
       "      <td>2</td>\n",
       "      <td>4</td>\n",
       "      <td>2</td>\n",
       "      <td>0</td>\n",
       "      <td>0</td>\n",
       "      <td>0</td>\n",
       "    </tr>\n",
       "    <tr>\n",
       "      <th>4</th>\n",
       "      <td>6</td>\n",
       "      <td>36</td>\n",
       "      <td>2</td>\n",
       "      <td>2</td>\n",
       "      <td>9055</td>\n",
       "      <td>1</td>\n",
       "      <td>3</td>\n",
       "      <td>2</td>\n",
       "      <td>4</td>\n",
       "      <td>3</td>\n",
       "      <td>4</td>\n",
       "      <td>35</td>\n",
       "      <td>3</td>\n",
       "      <td>2</td>\n",
       "      <td>1</td>\n",
       "      <td>3</td>\n",
       "      <td>2</td>\n",
       "      <td>1</td>\n",
       "      <td>0</td>\n",
       "      <td>1</td>\n",
       "    </tr>\n",
       "  </tbody>\n",
       "</table>\n",
       "</div>"
      ],
      "text/plain": [
       "  IDCREDITO Duracao HistoricoCredito Proposito Valor Investimentos Emprego  \\\n",
       "0         2      48                2         1  5951             2       3   \n",
       "1         3      12                1         2  2096             2       4   \n",
       "2         4      42                2         3  7882             2       4   \n",
       "3         5      24                3         4  4870             2       3   \n",
       "4         6      36                2         2  9055             1       3   \n",
       "\n",
       "  TempoParcelamento EstadoCivil FiadorTerceiros ResidenciaDesde Idade  \\\n",
       "0                 2           1               3               2    22   \n",
       "1                 2           4               3               3    49   \n",
       "2                 2           4               4               4    45   \n",
       "3                 3           4               3               4    53   \n",
       "4                 2           4               3               4    35   \n",
       "\n",
       "  OutrosFinanciamentos Habitacao EmprestimoExistente Profissao Dependentes  \\\n",
       "0                    3         1                   1         4           1   \n",
       "1                    3         1                   1         3           2   \n",
       "2                    3         2                   1         4           2   \n",
       "3                    3         2                   2         4           2   \n",
       "4                    3         2                   1         3           2   \n",
       "\n",
       "  SocioEmpresa Estrangeiro Status  \n",
       "0            0           0      0  \n",
       "1            0           0      1  \n",
       "2            0           0      1  \n",
       "3            0           0      0  \n",
       "4            1           0      1  "
      ]
     },
     "execution_count": 7,
     "metadata": {},
     "output_type": "execute_result"
    }
   ],
   "source": [
    "#Damos nomes para as colunas através do comando columns do pandas\n",
    "db.columns = [\"IDCREDITO\", \"Duracao\", \"HistoricoCredito\", \"Proposito\", \"Valor\", \"Investimentos\", \"Emprego\", \"TempoParcelamento\", \"EstadoCivil\", \n",
    "              \"FiadorTerceiros\", \"ResidenciaDesde\", \"Idade\", \"OutrosFinanciamentos\", \"Habitacao\", \"EmprestimoExistente\", \"Profissao\", \n",
    "              \"Dependentes\", \"SocioEmpresa\", \"Estrangeiro\", \"Status\"]\n",
    "db.head()"
   ]
  },
  {
   "cell_type": "code",
   "execution_count": 409,
   "id": "755fe09f-9048-48e8-a54a-6f37156d2d56",
   "metadata": {},
   "outputs": [
    {
     "data": {
      "text/plain": [
       "(1000, 20)"
      ]
     },
     "execution_count": 409,
     "metadata": {},
     "output_type": "execute_result"
    }
   ],
   "source": [
    "#verificamos o formato do banco de dados para ver se está ok e podemos começar a explorar os dados\n",
    "db.shape"
   ]
  },
  {
   "cell_type": "code",
   "execution_count": 410,
   "id": "d89fac6a-846f-490a-aa93-c29ed439efe1",
   "metadata": {},
   "outputs": [
    {
     "data": {
      "text/plain": [
       "IDCREDITO                0\n",
       "Duracao                  0\n",
       "HistoricoCredito         0\n",
       "Proposito                0\n",
       "Valor                    0\n",
       "Investimentos            0\n",
       "Emprego                 10\n",
       "TempoParcelamento        0\n",
       "EstadoCivil              0\n",
       "FiadorTerceiros          0\n",
       "ResidenciaDesde          7\n",
       "Idade                    0\n",
       "OutrosFinanciamentos     0\n",
       "Habitacao                9\n",
       "EmprestimoExistente      0\n",
       "Profissao                0\n",
       "Dependentes              0\n",
       "SocioEmpresa             0\n",
       "Estrangeiro              0\n",
       "Status                   0\n",
       "dtype: int64"
      ]
     },
     "execution_count": 410,
     "metadata": {},
     "output_type": "execute_result"
    }
   ],
   "source": [
    "#Verificar se existem valores nulos(NaN) na database\n",
    "db.isnull().sum()"
   ]
  },
  {
   "cell_type": "code",
   "execution_count": 411,
   "id": "8baf909c-20f9-4664-8f68-e3e85d62a27d",
   "metadata": {},
   "outputs": [
    {
     "data": {
      "text/plain": [
       "Emprego\n",
       "1    171\n",
       "2    247\n",
       "3    338\n",
       "4    172\n",
       "5     62\n",
       "dtype: int64"
      ]
     },
     "execution_count": 411,
     "metadata": {},
     "output_type": "execute_result"
    }
   ],
   "source": [
    "#A coluna emprego possui um valor NaN, mas como não é um  valor numérico, utilizamos a Moda\n",
    "#Repetimos o processo para as colunas ResidenciaDesde e Habitacao\n",
    "emprego = db.groupby(['Emprego']).size()\n",
    "emprego"
   ]
  },
  {
   "cell_type": "code",
   "execution_count": 412,
   "id": "0b917962-a99c-4ef3-aa6a-b4b2f6e9fa1d",
   "metadata": {},
   "outputs": [],
   "source": [
    "#Subistituir o valor NaN pela moda\n",
    "db['Emprego'].fillna(3, inplace = True)"
   ]
  },
  {
   "cell_type": "code",
   "execution_count": 413,
   "id": "43b544a9-8c89-45c0-8979-169c57d9b2a3",
   "metadata": {},
   "outputs": [
    {
     "data": {
      "text/plain": [
       "ResidenciaDesde\n",
       "1    129\n",
       "2    308\n",
       "3    147\n",
       "4    409\n",
       "dtype: int64"
      ]
     },
     "execution_count": 413,
     "metadata": {},
     "output_type": "execute_result"
    }
   ],
   "source": [
    "#Repetimos o processo para a coluna ResidenciaDesde\n",
    "residencia = db.groupby(['ResidenciaDesde']).size()\n",
    "residencia"
   ]
  },
  {
   "cell_type": "code",
   "execution_count": 414,
   "id": "020874f2-df7c-4c46-ae60-b24e9283b891",
   "metadata": {},
   "outputs": [],
   "source": [
    "#Subistituir o valor NaN pela moda\n",
    "db['ResidenciaDesde'].fillna(4, inplace = True)"
   ]
  },
  {
   "cell_type": "code",
   "execution_count": 415,
   "id": "3e193257-55ad-44da-a6b5-8364aa734d26",
   "metadata": {},
   "outputs": [
    {
     "data": {
      "text/plain": [
       "Habitacao\n",
       "1    709\n",
       "2    107\n",
       "3    175\n",
       "dtype: int64"
      ]
     },
     "execution_count": 415,
     "metadata": {},
     "output_type": "execute_result"
    }
   ],
   "source": [
    "#Repetimos o processo para a coluna Habitacao\n",
    "habitacao = db.groupby(['Habitacao']).size()\n",
    "habitacao"
   ]
  },
  {
   "cell_type": "code",
   "execution_count": 416,
   "id": "9fa06150-fd60-4fc4-8787-0f3472bafc99",
   "metadata": {},
   "outputs": [],
   "source": [
    "#Subistituir o valor NaN pela moda\n",
    "db['Habitacao'].fillna(1, inplace = True)"
   ]
  },
  {
   "cell_type": "code",
   "execution_count": 417,
   "id": "00d1b49f-9a66-438c-9aaf-92e2b830382d",
   "metadata": {},
   "outputs": [
    {
     "data": {
      "text/plain": [
       "Profissao\n",
       "1      147\n",
       "2       22\n",
       "3      197\n",
       "4      625\n",
       "999      9\n",
       "dtype: int64"
      ]
     },
     "execution_count": 417,
     "metadata": {},
     "output_type": "execute_result"
    }
   ],
   "source": [
    "#Repetimos o processo para a coluna Profissao, pois analizando o banco de dados descobrimos um valor não nulo, porém fora dos padrões\n",
    "profissao = db.groupby(['Profissao']).size()\n",
    "profissao"
   ]
  },
  {
   "cell_type": "code",
   "execution_count": 418,
   "id": "50e8cd43-7717-4e37-a433-ccee3ec9dc85",
   "metadata": {},
   "outputs": [],
   "source": [
    "#Como o valor 999 não é nulo, precisamos localizá-lo na tabela e substituílo pela moda.\n",
    "db.loc[(db['Profissao'] > 5 ), 'Profissao'] = 4"
   ]
  },
  {
   "cell_type": "code",
   "execution_count": 419,
   "id": "bb494389-6160-45f8-8d10-f1f5a5cff449",
   "metadata": {},
   "outputs": [
    {
     "data": {
      "text/plain": [
       "Profissao\n",
       "1    147\n",
       "2     22\n",
       "3    197\n",
       "4    634\n",
       "dtype: int64"
      ]
     },
     "execution_count": 419,
     "metadata": {},
     "output_type": "execute_result"
    }
   ],
   "source": [
    "profissao = db.groupby(['Profissao']).size()\n",
    "profissao"
   ]
  },
  {
   "cell_type": "code",
   "execution_count": 420,
   "id": "d864607c-dbfd-4095-b0fb-1a9921de6b0d",
   "metadata": {},
   "outputs": [],
   "source": [
    "db = db.drop(columns=['IDCREDITO', 'Valor', 'Duracao', 'Proposito', ])"
   ]
  },
  {
   "cell_type": "code",
   "execution_count": 421,
   "id": "3f654278-af49-4863-8a10-35d3bb7e6c24",
   "metadata": {},
   "outputs": [
    {
     "data": {
      "text/html": [
       "<div>\n",
       "<style scoped>\n",
       "    .dataframe tbody tr th:only-of-type {\n",
       "        vertical-align: middle;\n",
       "    }\n",
       "\n",
       "    .dataframe tbody tr th {\n",
       "        vertical-align: top;\n",
       "    }\n",
       "\n",
       "    .dataframe thead th {\n",
       "        text-align: right;\n",
       "    }\n",
       "</style>\n",
       "<table border=\"1\" class=\"dataframe\">\n",
       "  <thead>\n",
       "    <tr style=\"text-align: right;\">\n",
       "      <th></th>\n",
       "      <th>HistoricoCredito</th>\n",
       "      <th>Investimentos</th>\n",
       "      <th>Emprego</th>\n",
       "      <th>TempoParcelamento</th>\n",
       "      <th>EstadoCivil</th>\n",
       "      <th>FiadorTerceiros</th>\n",
       "      <th>ResidenciaDesde</th>\n",
       "      <th>Idade</th>\n",
       "      <th>OutrosFinanciamentos</th>\n",
       "      <th>Habitacao</th>\n",
       "      <th>EmprestimoExistente</th>\n",
       "      <th>Profissao</th>\n",
       "      <th>Dependentes</th>\n",
       "      <th>SocioEmpresa</th>\n",
       "      <th>Estrangeiro</th>\n",
       "      <th>Status</th>\n",
       "    </tr>\n",
       "  </thead>\n",
       "  <tbody>\n",
       "    <tr>\n",
       "      <th>0</th>\n",
       "      <td>2</td>\n",
       "      <td>2</td>\n",
       "      <td>3</td>\n",
       "      <td>2</td>\n",
       "      <td>1</td>\n",
       "      <td>3</td>\n",
       "      <td>2</td>\n",
       "      <td>22</td>\n",
       "      <td>3</td>\n",
       "      <td>1</td>\n",
       "      <td>1</td>\n",
       "      <td>4</td>\n",
       "      <td>1</td>\n",
       "      <td>0</td>\n",
       "      <td>0</td>\n",
       "      <td>0</td>\n",
       "    </tr>\n",
       "    <tr>\n",
       "      <th>1</th>\n",
       "      <td>1</td>\n",
       "      <td>2</td>\n",
       "      <td>4</td>\n",
       "      <td>2</td>\n",
       "      <td>4</td>\n",
       "      <td>3</td>\n",
       "      <td>3</td>\n",
       "      <td>49</td>\n",
       "      <td>3</td>\n",
       "      <td>1</td>\n",
       "      <td>1</td>\n",
       "      <td>3</td>\n",
       "      <td>2</td>\n",
       "      <td>0</td>\n",
       "      <td>0</td>\n",
       "      <td>1</td>\n",
       "    </tr>\n",
       "    <tr>\n",
       "      <th>2</th>\n",
       "      <td>2</td>\n",
       "      <td>2</td>\n",
       "      <td>4</td>\n",
       "      <td>2</td>\n",
       "      <td>4</td>\n",
       "      <td>4</td>\n",
       "      <td>4</td>\n",
       "      <td>45</td>\n",
       "      <td>3</td>\n",
       "      <td>2</td>\n",
       "      <td>1</td>\n",
       "      <td>4</td>\n",
       "      <td>2</td>\n",
       "      <td>0</td>\n",
       "      <td>0</td>\n",
       "      <td>1</td>\n",
       "    </tr>\n",
       "    <tr>\n",
       "      <th>3</th>\n",
       "      <td>3</td>\n",
       "      <td>2</td>\n",
       "      <td>3</td>\n",
       "      <td>3</td>\n",
       "      <td>4</td>\n",
       "      <td>3</td>\n",
       "      <td>4</td>\n",
       "      <td>53</td>\n",
       "      <td>3</td>\n",
       "      <td>2</td>\n",
       "      <td>2</td>\n",
       "      <td>4</td>\n",
       "      <td>2</td>\n",
       "      <td>0</td>\n",
       "      <td>0</td>\n",
       "      <td>0</td>\n",
       "    </tr>\n",
       "    <tr>\n",
       "      <th>4</th>\n",
       "      <td>2</td>\n",
       "      <td>1</td>\n",
       "      <td>3</td>\n",
       "      <td>2</td>\n",
       "      <td>4</td>\n",
       "      <td>3</td>\n",
       "      <td>4</td>\n",
       "      <td>35</td>\n",
       "      <td>3</td>\n",
       "      <td>2</td>\n",
       "      <td>1</td>\n",
       "      <td>3</td>\n",
       "      <td>2</td>\n",
       "      <td>1</td>\n",
       "      <td>0</td>\n",
       "      <td>1</td>\n",
       "    </tr>\n",
       "  </tbody>\n",
       "</table>\n",
       "</div>"
      ],
      "text/plain": [
       "  HistoricoCredito Investimentos  Emprego TempoParcelamento EstadoCivil  \\\n",
       "0                2             2        3                 2           1   \n",
       "1                1             2        4                 2           4   \n",
       "2                2             2        4                 2           4   \n",
       "3                3             2        3                 3           4   \n",
       "4                2             1        3                 2           4   \n",
       "\n",
       "  FiadorTerceiros  ResidenciaDesde Idade OutrosFinanciamentos  Habitacao  \\\n",
       "0               3                2    22                    3          1   \n",
       "1               3                3    49                    3          1   \n",
       "2               4                4    45                    3          2   \n",
       "3               3                4    53                    3          2   \n",
       "4               3                4    35                    3          2   \n",
       "\n",
       "  EmprestimoExistente Profissao Dependentes SocioEmpresa Estrangeiro Status  \n",
       "0                   1         4           1            0           0      0  \n",
       "1                   1         3           2            0           0      1  \n",
       "2                   1         4           2            0           0      1  \n",
       "3                   2         4           2            0           0      0  \n",
       "4                   1         3           2            1           0      1  "
      ]
     },
     "execution_count": 421,
     "metadata": {},
     "output_type": "execute_result"
    }
   ],
   "source": [
    "db.head()"
   ]
  },
  {
   "cell_type": "markdown",
   "id": "1396b889-3c00-4bb4-8d3a-4933b81eda7f",
   "metadata": {},
   "source": [
    "Criação e treinamento do modelo"
   ]
  },
  {
   "cell_type": "code",
   "execution_count": 422,
   "id": "b5f5a6fd-5823-437a-b9ff-28c982572ef3",
   "metadata": {},
   "outputs": [],
   "source": [
    "x= db.iloc[:,0:15].values #previsores\n",
    "y= db.iloc[:,15].values #classe"
   ]
  },
  {
   "cell_type": "code",
   "execution_count": 423,
   "id": "cc8b0390-f17f-4246-8cc9-ace29c83256c",
   "metadata": {},
   "outputs": [],
   "source": [
    "LE = LabelEncoder()\n",
    "scaler = StandardScaler()"
   ]
  },
  {
   "cell_type": "code",
   "execution_count": 424,
   "id": "fcf37128-3127-4c17-ab4c-c253cb37fd3b",
   "metadata": {},
   "outputs": [
    {
     "data": {
      "text/plain": [
       "(1000, 15)"
      ]
     },
     "execution_count": 424,
     "metadata": {},
     "output_type": "execute_result"
    }
   ],
   "source": [
    "for z in range(15):\n",
    "    x[:,z] = LE.fit_transform(x[:,z])\n",
    "x.shape"
   ]
  },
  {
   "cell_type": "code",
   "execution_count": 425,
   "id": "0b329088-e4ed-4530-b247-48a6fd108df7",
   "metadata": {},
   "outputs": [
    {
     "data": {
      "text/plain": [
       "array([0, 1, 1, 0, 1, 1, 1, 0, 1, 0, 0, 1, 1, 0, 1, 1, 1, 1, 1, 1, 1, 1,\n",
       "       1, 1, 0, 1, 1, 1, 1, 0, 1, 0, 1, 1, 1, 1, 1, 1, 1, 1, 1, 1, 1, 1,\n",
       "       1, 1, 1, 0, 0, 1, 1, 0, 1, 1, 0, 0, 1, 1, 1, 1, 1, 1, 1, 0, 1, 0,\n",
       "       0, 1, 1, 1, 1, 1, 0, 1, 1, 0, 1, 1, 1, 1, 1, 1, 0, 1, 0, 1, 1, 0,\n",
       "       1, 0, 1, 1, 1, 1, 1, 1, 1, 1, 1, 0, 0, 1, 1, 1, 1, 1, 1, 0, 1, 1,\n",
       "       0, 1, 0, 1, 0, 1, 1, 1, 0, 1, 1, 0, 1, 0, 1, 0, 1, 1, 1, 1, 1, 0,\n",
       "       1, 1, 1, 1, 1, 1, 0, 1, 1, 1, 1, 1, 1, 1, 1, 1, 1, 0, 1, 1, 1, 1,\n",
       "       1, 1, 1, 1, 1, 1, 0, 1, 0, 0, 1, 0, 0, 0, 1, 1, 1, 1, 0, 0, 0, 1,\n",
       "       0, 1, 0, 1, 0, 1, 0, 0, 0, 1, 0, 0, 1, 0, 1, 1, 1, 0, 1, 1, 1, 1,\n",
       "       1, 1, 1, 1, 1, 1, 1, 0, 0, 1, 1, 1, 1, 1, 1, 1, 1, 1, 1, 1, 1, 0,\n",
       "       0, 0, 1, 0, 1, 1, 0, 0, 0, 1, 1, 0, 1, 0, 1, 1, 1, 1, 1, 1, 0, 1,\n",
       "       1, 0, 1, 1, 1, 1, 0, 1, 1, 1, 1, 1, 1, 1, 0, 1, 1, 0, 1, 1, 1, 0,\n",
       "       0, 1, 1, 1, 0, 1, 1, 1, 1, 1, 1, 1, 1, 1, 1, 1, 0, 1, 0, 1, 1, 1,\n",
       "       0, 1, 1, 1, 1, 1, 0, 0, 1, 0, 1, 1, 0, 0, 1, 1, 1, 1, 0, 1, 0, 1,\n",
       "       1, 1, 1, 0, 0, 1, 1, 1, 1, 1, 1, 1, 1, 1, 0, 0, 0, 0, 0, 1, 0, 1,\n",
       "       1, 1, 1, 1, 1, 1, 1, 1, 1, 1, 1, 0, 1, 0, 1, 1, 0, 1, 0, 1, 1, 1,\n",
       "       1, 0, 1, 1, 1, 0, 1, 1, 1, 1, 1, 0, 0, 1, 1, 0, 1, 1, 0, 1, 1, 1,\n",
       "       1, 1, 1, 1, 1, 1, 1, 1, 1, 1, 1, 0, 1, 1, 1, 0, 1, 1, 0, 1, 1, 1,\n",
       "       0, 1, 0, 1, 0, 1, 0, 1, 1, 0, 1, 1, 1, 1, 1, 1, 0, 1, 1, 1, 1, 0,\n",
       "       1, 0, 1, 1, 1, 0, 1, 1, 1, 0, 1, 1, 1, 0, 0, 1, 0, 1, 1, 0, 1, 1,\n",
       "       1, 1, 0, 1, 1, 0, 1, 1, 1, 1, 1, 1, 1, 1, 0, 1, 1, 1, 0, 0, 0, 0,\n",
       "       0, 1, 1, 1, 1, 1, 1, 1, 1, 1, 0, 1, 1, 1, 1, 1, 0, 1, 1, 1, 0, 0,\n",
       "       1, 1, 0, 1, 1, 0, 0, 1, 0, 1, 1, 0, 1, 1, 1, 1, 1, 1, 0, 1, 1, 1,\n",
       "       0, 0, 1, 1, 1, 1, 1, 0, 1, 1, 0, 1, 1, 1, 0, 1, 1, 0, 1, 0, 1, 0,\n",
       "       0, 1, 0, 1, 1, 0, 1, 1, 1, 0, 1, 1, 0, 0, 0, 0, 0, 1, 0, 1, 0, 1,\n",
       "       0, 1, 1, 0, 0, 1, 1, 1, 1, 1, 1, 1, 0, 1, 0, 1, 1, 0, 1, 0, 1, 1,\n",
       "       0, 0, 1, 1, 1, 0, 0, 0, 0, 0, 0, 1, 1, 0, 0, 0, 1, 1, 1, 0, 1, 1,\n",
       "       0, 0, 1, 1, 0, 1, 1, 1, 0, 1, 1, 0, 0, 1, 0, 1, 1, 0, 1, 1, 1, 0,\n",
       "       1, 0, 0, 1, 1, 1, 1, 0, 0, 1, 0, 1, 1, 0, 1, 0, 0, 1, 0, 0, 0, 1,\n",
       "       1, 0, 1, 1, 1, 1, 0, 1, 1, 1, 1, 1, 1, 0, 1, 1, 1, 1, 1, 0, 1, 0,\n",
       "       1, 1, 1, 1, 1, 1, 1, 1, 1, 1, 1, 1, 1, 1, 1, 1, 1, 1, 1, 1, 1, 1,\n",
       "       1, 0, 0, 1, 1, 1, 1, 0, 0, 1, 1, 1, 0, 1, 1, 0, 1, 1, 1, 1, 1, 0,\n",
       "       0, 0, 1, 0, 1, 1, 0, 0, 1, 1, 0, 1, 1, 1, 1, 0, 1, 1, 0, 1, 1, 1,\n",
       "       1, 1, 1, 0, 1, 1, 0, 1, 1, 0, 0, 1, 0, 1, 0, 1, 0, 1, 0, 1, 1, 0,\n",
       "       1, 1, 1, 1, 0, 1, 1, 1, 0, 1, 1, 1, 1, 0, 1, 1, 0, 1, 1, 1, 1, 0,\n",
       "       0, 0, 1, 1, 1, 1, 1, 0, 1, 1, 1, 1, 1, 1, 1, 0, 1, 1, 1, 0, 1, 1,\n",
       "       0, 0, 0, 1, 1, 1, 1, 0, 1, 1, 0, 1, 1, 1, 0, 0, 0, 1, 1, 0, 0, 0,\n",
       "       0, 1, 1, 1, 1, 1, 0, 1, 0, 1, 1, 0, 1, 1, 0, 0, 1, 1, 0, 1, 1, 1,\n",
       "       1, 0, 1, 1, 0, 0, 1, 0, 1, 1, 1, 1, 1, 1, 1, 1, 1, 1, 1, 1, 1, 0,\n",
       "       1, 1, 1, 1, 1, 0, 0, 1, 0, 1, 1, 1, 1, 1, 1, 1, 1, 1, 1, 0, 0, 1,\n",
       "       1, 1, 1, 1, 1, 1, 1, 1, 1, 1, 0, 1, 1, 0, 0, 1, 0, 0, 0, 1, 1, 0,\n",
       "       1, 0, 0, 1, 0, 1, 1, 1, 0, 1, 1, 1, 0, 0, 1, 0, 1, 1, 1, 1, 1, 1,\n",
       "       0, 1, 0, 0, 1, 0, 0, 0, 1, 1, 1, 1, 0, 1, 1, 1, 0, 1, 1, 0, 1, 1,\n",
       "       1, 1, 1, 0, 0, 1, 1, 1, 0, 0, 1, 1, 0, 0, 1, 0, 1, 1, 1, 1, 1, 1,\n",
       "       1, 1, 1, 1, 1, 1, 1, 1, 0, 1, 1, 0, 0, 0, 0, 1, 1, 1, 1, 1, 0, 1,\n",
       "       1, 1, 0, 1, 1, 0, 1, 1, 1, 1])"
      ]
     },
     "execution_count": 425,
     "metadata": {},
     "output_type": "execute_result"
    }
   ],
   "source": [
    "y = LE.fit_transform(y)\n",
    "y"
   ]
  },
  {
   "cell_type": "code",
   "execution_count": 426,
   "id": "7db04a25-3b54-4f37-8085-bece9af1e797",
   "metadata": {},
   "outputs": [],
   "source": [
    "# Divisão da base em treino e teste (70% para treinamento e 30% para teste)\n",
    "x_treinamento, x_teste, y_treinamento, y_teste = train_test_split(x, y, \n",
    "                                                                  test_size=0.3,\n",
    "                                                                  random_state=0)"
   ]
  },
  {
   "cell_type": "code",
   "execution_count": 427,
   "id": "8c2405bf-2fb3-4ef9-8988-0dd036ba4029",
   "metadata": {},
   "outputs": [],
   "source": [
    "# Criação da estrutura da rede neural com a classe Sequential (sequência de camadas)\n",
    "modelo = Sequential()\n",
    "modelo.add(Dense(units = 30, input_dim = 15))\n",
    "modelo.add(Dense(units = 38))\n",
    "modelo.add(Dense(units = 27, activation = 'softmax'))"
   ]
  },
  {
   "cell_type": "code",
   "execution_count": 428,
   "id": "c2e1c93b-3bbc-46b3-aef2-3372dd866ea0",
   "metadata": {},
   "outputs": [],
   "source": [
    "x_treinamento =  np.asarray(x_treinamento).astype(np.int64)\n",
    "y_treinamento =  np.asarray(y_treinamento).astype(np.int64)\n",
    "x_treinamento = tf.convert_to_tensor(x_treinamento, dtype=tf.int64)\n",
    "y_treinamento = tf.convert_to_tensor(y_treinamento, dtype=tf.int64)\n",
    "x_teste = tf.convert_to_tensor(x_treinamento, dtype=tf.int64)\n",
    "y_teste = tf.convert_to_tensor(y_treinamento, dtype=tf.int64)"
   ]
  },
  {
   "cell_type": "code",
   "execution_count": 429,
   "id": "4d455fd3-2554-4bc7-bc4c-e62b5fc51822",
   "metadata": {},
   "outputs": [
    {
     "name": "stdout",
     "output_type": "stream",
     "text": [
      "Model: \"sequential_11\"\n",
      "_________________________________________________________________\n",
      " Layer (type)                Output Shape              Param #   \n",
      "=================================================================\n",
      " dense_33 (Dense)            (None, 30)                480       \n",
      "                                                                 \n",
      " dense_34 (Dense)            (None, 38)                1178      \n",
      "                                                                 \n",
      " dense_35 (Dense)            (None, 27)                1053      \n",
      "                                                                 \n",
      "=================================================================\n",
      "Total params: 2,711\n",
      "Trainable params: 2,711\n",
      "Non-trainable params: 0\n",
      "_________________________________________________________________\n"
     ]
    }
   ],
   "source": [
    "modelo.compile(optimizer = 'adam', loss = 'sparse_categorical_crossentropy', metrics = ['accuracy'])\n",
    "\n",
    "modelo.summary()"
   ]
  },
  {
   "cell_type": "code",
   "execution_count": 430,
   "id": "e7b1d46c-ad11-4cde-8c7a-176a23919a5a",
   "metadata": {},
   "outputs": [
    {
     "name": "stdout",
     "output_type": "stream",
     "text": [
      "Epoch 1/100\n",
      "22/22 [==============================] - 0s 6ms/step - loss: 3.1958 - accuracy: 0.3600 - val_loss: 1.1993 - val_accuracy: 0.6614\n",
      "Epoch 2/100\n",
      "22/22 [==============================] - 0s 2ms/step - loss: 0.8787 - accuracy: 0.6286 - val_loss: 0.7694 - val_accuracy: 0.6500\n",
      "Epoch 3/100\n",
      "22/22 [==============================] - 0s 2ms/step - loss: 0.7217 - accuracy: 0.6314 - val_loss: 0.6814 - val_accuracy: 0.6443\n",
      "Epoch 4/100\n",
      "22/22 [==============================] - 0s 2ms/step - loss: 0.6710 - accuracy: 0.6414 - val_loss: 0.6679 - val_accuracy: 0.6614\n",
      "Epoch 5/100\n",
      "22/22 [==============================] - 0s 2ms/step - loss: 0.6770 - accuracy: 0.6571 - val_loss: 0.6377 - val_accuracy: 0.6557\n",
      "Epoch 6/100\n",
      "22/22 [==============================] - 0s 2ms/step - loss: 0.6369 - accuracy: 0.6643 - val_loss: 0.6365 - val_accuracy: 0.6500\n",
      "Epoch 7/100\n",
      "22/22 [==============================] - 0s 2ms/step - loss: 0.6204 - accuracy: 0.6600 - val_loss: 0.6099 - val_accuracy: 0.6914\n",
      "Epoch 8/100\n",
      "22/22 [==============================] - 0s 2ms/step - loss: 0.6261 - accuracy: 0.6757 - val_loss: 0.6025 - val_accuracy: 0.6814\n",
      "Epoch 9/100\n",
      "22/22 [==============================] - 0s 3ms/step - loss: 0.6272 - accuracy: 0.6771 - val_loss: 0.5966 - val_accuracy: 0.6871\n",
      "Epoch 10/100\n",
      "22/22 [==============================] - 0s 3ms/step - loss: 0.6148 - accuracy: 0.6986 - val_loss: 0.6166 - val_accuracy: 0.6814\n",
      "Epoch 11/100\n",
      "22/22 [==============================] - 0s 2ms/step - loss: 0.6064 - accuracy: 0.6771 - val_loss: 0.5938 - val_accuracy: 0.6871\n",
      "Epoch 12/100\n",
      "22/22 [==============================] - 0s 2ms/step - loss: 0.6012 - accuracy: 0.6900 - val_loss: 0.5918 - val_accuracy: 0.6857\n",
      "Epoch 13/100\n",
      "22/22 [==============================] - 0s 3ms/step - loss: 0.6050 - accuracy: 0.6671 - val_loss: 0.6135 - val_accuracy: 0.6914\n",
      "Epoch 14/100\n",
      "22/22 [==============================] - 0s 2ms/step - loss: 0.5975 - accuracy: 0.6886 - val_loss: 0.5921 - val_accuracy: 0.6900\n",
      "Epoch 15/100\n",
      "22/22 [==============================] - 0s 2ms/step - loss: 0.6004 - accuracy: 0.6900 - val_loss: 0.5895 - val_accuracy: 0.6914\n",
      "Epoch 16/100\n",
      "22/22 [==============================] - 0s 2ms/step - loss: 0.6032 - accuracy: 0.6857 - val_loss: 0.6134 - val_accuracy: 0.6800\n",
      "Epoch 17/100\n",
      "22/22 [==============================] - 0s 2ms/step - loss: 0.6100 - accuracy: 0.6843 - val_loss: 0.5897 - val_accuracy: 0.6914\n",
      "Epoch 18/100\n",
      "22/22 [==============================] - 0s 2ms/step - loss: 0.5945 - accuracy: 0.6929 - val_loss: 0.5919 - val_accuracy: 0.6929\n",
      "Epoch 19/100\n",
      "22/22 [==============================] - 0s 2ms/step - loss: 0.6116 - accuracy: 0.6771 - val_loss: 0.5863 - val_accuracy: 0.6943\n",
      "Epoch 20/100\n",
      "22/22 [==============================] - 0s 2ms/step - loss: 0.5944 - accuracy: 0.6986 - val_loss: 0.6029 - val_accuracy: 0.6929\n",
      "Epoch 21/100\n",
      "22/22 [==============================] - 0s 2ms/step - loss: 0.6150 - accuracy: 0.6800 - val_loss: 0.6190 - val_accuracy: 0.6957\n",
      "Epoch 22/100\n",
      "22/22 [==============================] - 0s 2ms/step - loss: 0.6348 - accuracy: 0.6729 - val_loss: 0.5859 - val_accuracy: 0.6900\n",
      "Epoch 23/100\n",
      "22/22 [==============================] - 0s 2ms/step - loss: 0.5925 - accuracy: 0.6800 - val_loss: 0.5850 - val_accuracy: 0.6914\n",
      "Epoch 24/100\n",
      "22/22 [==============================] - 0s 2ms/step - loss: 0.6059 - accuracy: 0.6957 - val_loss: 0.5851 - val_accuracy: 0.6943\n",
      "Epoch 25/100\n",
      "22/22 [==============================] - 0s 2ms/step - loss: 0.6035 - accuracy: 0.6814 - val_loss: 0.6191 - val_accuracy: 0.6986\n",
      "Epoch 26/100\n",
      "22/22 [==============================] - 0s 2ms/step - loss: 0.6338 - accuracy: 0.6914 - val_loss: 0.6329 - val_accuracy: 0.6529\n",
      "Epoch 27/100\n",
      "22/22 [==============================] - 0s 2ms/step - loss: 0.6026 - accuracy: 0.6986 - val_loss: 0.6176 - val_accuracy: 0.6986\n",
      "Epoch 28/100\n",
      "22/22 [==============================] - 0s 2ms/step - loss: 0.6001 - accuracy: 0.7014 - val_loss: 0.5872 - val_accuracy: 0.6914\n",
      "Epoch 29/100\n",
      "22/22 [==============================] - 0s 2ms/step - loss: 0.6099 - accuracy: 0.6657 - val_loss: 0.5931 - val_accuracy: 0.6943\n",
      "Epoch 30/100\n",
      "22/22 [==============================] - 0s 2ms/step - loss: 0.5940 - accuracy: 0.6929 - val_loss: 0.5843 - val_accuracy: 0.6986\n",
      "Epoch 31/100\n",
      "22/22 [==============================] - 0s 2ms/step - loss: 0.5949 - accuracy: 0.6800 - val_loss: 0.5928 - val_accuracy: 0.6971\n",
      "Epoch 32/100\n",
      "22/22 [==============================] - 0s 2ms/step - loss: 0.5974 - accuracy: 0.6900 - val_loss: 0.6259 - val_accuracy: 0.6614\n",
      "Epoch 33/100\n",
      "22/22 [==============================] - 0s 2ms/step - loss: 0.6234 - accuracy: 0.6771 - val_loss: 0.6685 - val_accuracy: 0.6871\n",
      "Epoch 34/100\n",
      "22/22 [==============================] - 0s 2ms/step - loss: 0.6161 - accuracy: 0.6929 - val_loss: 0.5847 - val_accuracy: 0.7000\n",
      "Epoch 35/100\n",
      "22/22 [==============================] - 0s 2ms/step - loss: 0.6022 - accuracy: 0.6843 - val_loss: 0.6178 - val_accuracy: 0.6971\n",
      "Epoch 36/100\n",
      "22/22 [==============================] - 0s 2ms/step - loss: 0.5930 - accuracy: 0.6900 - val_loss: 0.5838 - val_accuracy: 0.6957\n",
      "Epoch 37/100\n",
      "22/22 [==============================] - 0s 3ms/step - loss: 0.6001 - accuracy: 0.6914 - val_loss: 0.6276 - val_accuracy: 0.6971\n",
      "Epoch 38/100\n",
      "22/22 [==============================] - 0s 3ms/step - loss: 0.6348 - accuracy: 0.6829 - val_loss: 0.6806 - val_accuracy: 0.5871\n",
      "Epoch 39/100\n",
      "22/22 [==============================] - 0s 2ms/step - loss: 0.6084 - accuracy: 0.6743 - val_loss: 0.5843 - val_accuracy: 0.6957\n",
      "Epoch 40/100\n",
      "22/22 [==============================] - 0s 3ms/step - loss: 0.6146 - accuracy: 0.6986 - val_loss: 0.5907 - val_accuracy: 0.6971\n",
      "Epoch 41/100\n",
      "22/22 [==============================] - 0s 2ms/step - loss: 0.5895 - accuracy: 0.6929 - val_loss: 0.5864 - val_accuracy: 0.6957\n",
      "Epoch 42/100\n",
      "22/22 [==============================] - 0s 2ms/step - loss: 0.6007 - accuracy: 0.6857 - val_loss: 0.6059 - val_accuracy: 0.6971\n",
      "Epoch 43/100\n",
      "22/22 [==============================] - 0s 2ms/step - loss: 0.6370 - accuracy: 0.6543 - val_loss: 0.6493 - val_accuracy: 0.6186\n",
      "Epoch 44/100\n",
      "22/22 [==============================] - 0s 2ms/step - loss: 0.6000 - accuracy: 0.6886 - val_loss: 0.5856 - val_accuracy: 0.6957\n",
      "Epoch 45/100\n",
      "22/22 [==============================] - 0s 2ms/step - loss: 0.5940 - accuracy: 0.6757 - val_loss: 0.5837 - val_accuracy: 0.6957\n",
      "Epoch 46/100\n",
      "22/22 [==============================] - 0s 2ms/step - loss: 0.5917 - accuracy: 0.6943 - val_loss: 0.5858 - val_accuracy: 0.6986\n",
      "Epoch 47/100\n",
      "22/22 [==============================] - 0s 2ms/step - loss: 0.5919 - accuracy: 0.6900 - val_loss: 0.5882 - val_accuracy: 0.6971\n",
      "Epoch 48/100\n",
      "22/22 [==============================] - 0s 2ms/step - loss: 0.5953 - accuracy: 0.6914 - val_loss: 0.6049 - val_accuracy: 0.6957\n",
      "Epoch 49/100\n",
      "22/22 [==============================] - 0s 2ms/step - loss: 0.5888 - accuracy: 0.6986 - val_loss: 0.5981 - val_accuracy: 0.7000\n",
      "Epoch 50/100\n",
      "22/22 [==============================] - 0s 2ms/step - loss: 0.6012 - accuracy: 0.6857 - val_loss: 0.6176 - val_accuracy: 0.6700\n",
      "Epoch 51/100\n",
      "22/22 [==============================] - 0s 2ms/step - loss: 0.6039 - accuracy: 0.6671 - val_loss: 0.6120 - val_accuracy: 0.6929\n",
      "Epoch 52/100\n",
      "22/22 [==============================] - 0s 2ms/step - loss: 0.6263 - accuracy: 0.6929 - val_loss: 0.5900 - val_accuracy: 0.6943\n",
      "Epoch 53/100\n",
      "22/22 [==============================] - 0s 2ms/step - loss: 0.5955 - accuracy: 0.6986 - val_loss: 0.5841 - val_accuracy: 0.6929\n",
      "Epoch 54/100\n",
      "22/22 [==============================] - 0s 2ms/step - loss: 0.5882 - accuracy: 0.6986 - val_loss: 0.6619 - val_accuracy: 0.6871\n",
      "Epoch 55/100\n",
      "22/22 [==============================] - 0s 2ms/step - loss: 0.6064 - accuracy: 0.6871 - val_loss: 0.5833 - val_accuracy: 0.6957\n",
      "Epoch 56/100\n",
      "22/22 [==============================] - 0s 2ms/step - loss: 0.5972 - accuracy: 0.7014 - val_loss: 0.6087 - val_accuracy: 0.6786\n",
      "Epoch 57/100\n",
      "22/22 [==============================] - 0s 2ms/step - loss: 0.5932 - accuracy: 0.6971 - val_loss: 0.5835 - val_accuracy: 0.6957\n",
      "Epoch 58/100\n",
      "22/22 [==============================] - 0s 2ms/step - loss: 0.5893 - accuracy: 0.6914 - val_loss: 0.5873 - val_accuracy: 0.6971\n",
      "Epoch 59/100\n",
      "22/22 [==============================] - 0s 3ms/step - loss: 0.6040 - accuracy: 0.6871 - val_loss: 0.6680 - val_accuracy: 0.6100\n",
      "Epoch 60/100\n",
      "22/22 [==============================] - 0s 2ms/step - loss: 0.6222 - accuracy: 0.6686 - val_loss: 0.5831 - val_accuracy: 0.6986\n",
      "Epoch 61/100\n",
      "22/22 [==============================] - 0s 2ms/step - loss: 0.5908 - accuracy: 0.6843 - val_loss: 0.6017 - val_accuracy: 0.6943\n",
      "Epoch 62/100\n",
      "22/22 [==============================] - 0s 2ms/step - loss: 0.5998 - accuracy: 0.6871 - val_loss: 0.6114 - val_accuracy: 0.6800\n",
      "Epoch 63/100\n",
      "22/22 [==============================] - 0s 2ms/step - loss: 0.6185 - accuracy: 0.6786 - val_loss: 0.5937 - val_accuracy: 0.6957\n",
      "Epoch 64/100\n",
      "22/22 [==============================] - 0s 2ms/step - loss: 0.5890 - accuracy: 0.6986 - val_loss: 0.5958 - val_accuracy: 0.6943\n",
      "Epoch 65/100\n",
      "22/22 [==============================] - 0s 2ms/step - loss: 0.5972 - accuracy: 0.6886 - val_loss: 0.6031 - val_accuracy: 0.6929\n",
      "Epoch 66/100\n",
      "22/22 [==============================] - 0s 2ms/step - loss: 0.6092 - accuracy: 0.6957 - val_loss: 0.6097 - val_accuracy: 0.6957\n",
      "Epoch 67/100\n",
      "22/22 [==============================] - 0s 2ms/step - loss: 0.6337 - accuracy: 0.6757 - val_loss: 0.6155 - val_accuracy: 0.6657\n",
      "Epoch 68/100\n",
      "22/22 [==============================] - 0s 2ms/step - loss: 0.6125 - accuracy: 0.6600 - val_loss: 0.5888 - val_accuracy: 0.6971\n",
      "Epoch 69/100\n",
      "22/22 [==============================] - 0s 2ms/step - loss: 0.6078 - accuracy: 0.6943 - val_loss: 0.6028 - val_accuracy: 0.6943\n",
      "Epoch 70/100\n",
      "22/22 [==============================] - 0s 2ms/step - loss: 0.6125 - accuracy: 0.6757 - val_loss: 0.6024 - val_accuracy: 0.6943\n",
      "Epoch 71/100\n",
      "22/22 [==============================] - 0s 2ms/step - loss: 0.5921 - accuracy: 0.6943 - val_loss: 0.5836 - val_accuracy: 0.6957\n",
      "Epoch 72/100\n",
      "22/22 [==============================] - 0s 2ms/step - loss: 0.6046 - accuracy: 0.6843 - val_loss: 0.5848 - val_accuracy: 0.6986\n",
      "Epoch 73/100\n",
      "22/22 [==============================] - 0s 2ms/step - loss: 0.5890 - accuracy: 0.6886 - val_loss: 0.5835 - val_accuracy: 0.6943\n",
      "Epoch 74/100\n",
      "22/22 [==============================] - 0s 2ms/step - loss: 0.5905 - accuracy: 0.6971 - val_loss: 0.6075 - val_accuracy: 0.6871\n",
      "Epoch 75/100\n",
      "22/22 [==============================] - 0s 2ms/step - loss: 0.5912 - accuracy: 0.6914 - val_loss: 0.5979 - val_accuracy: 0.7000\n",
      "Epoch 76/100\n",
      "22/22 [==============================] - 0s 2ms/step - loss: 0.5895 - accuracy: 0.6929 - val_loss: 0.5882 - val_accuracy: 0.6971\n",
      "Epoch 77/100\n",
      "22/22 [==============================] - 0s 2ms/step - loss: 0.5857 - accuracy: 0.6971 - val_loss: 0.6532 - val_accuracy: 0.6229\n",
      "Epoch 78/100\n",
      "22/22 [==============================] - 0s 3ms/step - loss: 0.6001 - accuracy: 0.6886 - val_loss: 0.5955 - val_accuracy: 0.6957\n",
      "Epoch 79/100\n",
      "22/22 [==============================] - 0s 3ms/step - loss: 0.5976 - accuracy: 0.6986 - val_loss: 0.5884 - val_accuracy: 0.6857\n",
      "Epoch 80/100\n",
      "22/22 [==============================] - 0s 2ms/step - loss: 0.6137 - accuracy: 0.6986 - val_loss: 0.6142 - val_accuracy: 0.6971\n",
      "Epoch 81/100\n",
      "22/22 [==============================] - 0s 2ms/step - loss: 0.5924 - accuracy: 0.6886 - val_loss: 0.5984 - val_accuracy: 0.6957\n",
      "Epoch 82/100\n",
      "22/22 [==============================] - 0s 2ms/step - loss: 0.5979 - accuracy: 0.6971 - val_loss: 0.5864 - val_accuracy: 0.6943\n",
      "Epoch 83/100\n",
      "22/22 [==============================] - 0s 2ms/step - loss: 0.5919 - accuracy: 0.7000 - val_loss: 0.5878 - val_accuracy: 0.6957\n",
      "Epoch 84/100\n",
      "22/22 [==============================] - 0s 2ms/step - loss: 0.5978 - accuracy: 0.6957 - val_loss: 0.5971 - val_accuracy: 0.6914\n",
      "Epoch 85/100\n",
      "22/22 [==============================] - 0s 2ms/step - loss: 0.5910 - accuracy: 0.6914 - val_loss: 0.5842 - val_accuracy: 0.6943\n",
      "Epoch 86/100\n",
      "22/22 [==============================] - 0s 2ms/step - loss: 0.6059 - accuracy: 0.7029 - val_loss: 0.6358 - val_accuracy: 0.6429\n",
      "Epoch 87/100\n",
      "22/22 [==============================] - 0s 2ms/step - loss: 0.5887 - accuracy: 0.6843 - val_loss: 0.5849 - val_accuracy: 0.6986\n",
      "Epoch 88/100\n",
      "22/22 [==============================] - 0s 2ms/step - loss: 0.5953 - accuracy: 0.6957 - val_loss: 0.5863 - val_accuracy: 0.6971\n",
      "Epoch 89/100\n",
      "22/22 [==============================] - 0s 2ms/step - loss: 0.5866 - accuracy: 0.6957 - val_loss: 0.5844 - val_accuracy: 0.6943\n",
      "Epoch 90/100\n",
      "22/22 [==============================] - 0s 2ms/step - loss: 0.5903 - accuracy: 0.7029 - val_loss: 0.5831 - val_accuracy: 0.6971\n",
      "Epoch 91/100\n",
      "22/22 [==============================] - 0s 2ms/step - loss: 0.5914 - accuracy: 0.6886 - val_loss: 0.5840 - val_accuracy: 0.6971\n",
      "Epoch 92/100\n",
      "22/22 [==============================] - 0s 2ms/step - loss: 0.6054 - accuracy: 0.6914 - val_loss: 0.6799 - val_accuracy: 0.6857\n",
      "Epoch 93/100\n",
      "22/22 [==============================] - 0s 2ms/step - loss: 0.6233 - accuracy: 0.6957 - val_loss: 0.5840 - val_accuracy: 0.6943\n",
      "Epoch 94/100\n",
      "22/22 [==============================] - 0s 2ms/step - loss: 0.5965 - accuracy: 0.7071 - val_loss: 0.5867 - val_accuracy: 0.6957\n",
      "Epoch 95/100\n",
      "22/22 [==============================] - 0s 2ms/step - loss: 0.5916 - accuracy: 0.6786 - val_loss: 0.5846 - val_accuracy: 0.6986\n",
      "Epoch 96/100\n",
      "22/22 [==============================] - 0s 2ms/step - loss: 0.6127 - accuracy: 0.6871 - val_loss: 0.6254 - val_accuracy: 0.6971\n",
      "Epoch 97/100\n",
      "22/22 [==============================] - 0s 2ms/step - loss: 0.5977 - accuracy: 0.6886 - val_loss: 0.5836 - val_accuracy: 0.6914\n",
      "Epoch 98/100\n",
      "22/22 [==============================] - 0s 3ms/step - loss: 0.5954 - accuracy: 0.6929 - val_loss: 0.6186 - val_accuracy: 0.6971\n",
      "Epoch 99/100\n",
      "22/22 [==============================] - 0s 2ms/step - loss: 0.5995 - accuracy: 0.6900 - val_loss: 0.5878 - val_accuracy: 0.6957\n",
      "Epoch 100/100\n",
      "22/22 [==============================] - 0s 2ms/step - loss: 0.5915 - accuracy: 0.6929 - val_loss: 0.5840 - val_accuracy: 0.6957\n"
     ]
    },
    {
     "data": {
      "text/plain": [
       "<keras.callbacks.History at 0x28a35836820>"
      ]
     },
     "execution_count": 430,
     "metadata": {},
     "output_type": "execute_result"
    }
   ],
   "source": [
    "modelo.fit(x_treinamento, y_treinamento, epochs = 100, validation_data = [x_teste, y_teste])"
   ]
  },
  {
   "cell_type": "code",
   "execution_count": null,
   "id": "c2d900bc-6812-4541-84ff-eef30970c6c1",
   "metadata": {},
   "outputs": [],
   "source": []
  }
 ],
 "metadata": {
  "kernelspec": {
   "display_name": "Python 3",
   "language": "python",
   "name": "python3"
  },
  "language_info": {
   "codemirror_mode": {
    "name": "ipython",
    "version": 3
   },
   "file_extension": ".py",
   "mimetype": "text/x-python",
   "name": "python",
   "nbconvert_exporter": "python",
   "pygments_lexer": "ipython3",
   "version": "3.8.8"
  }
 },
 "nbformat": 4,
 "nbformat_minor": 5
}
